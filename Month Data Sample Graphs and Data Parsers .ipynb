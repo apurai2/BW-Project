{
 "cells": [
  {
   "cell_type": "code",
   "execution_count": 1,
   "metadata": {
    "collapsed": false
   },
   "outputs": [
    {
     "name": "stderr",
     "output_type": "stream",
     "text": [
      "Using Theano backend.\n"
     ]
    }
   ],
   "source": [
    "import pandas as pd\n",
    "import numpy as np\n",
    "%matplotlib inline\n",
    "import matplotlib.pyplot as plt\n",
    "\n",
    "\n",
    "import tensorflow as tf\n",
    "import keras as kr\n",
    "\n",
    "import datetime\n",
    "import matplotlib.dates as mdates\n",
    "\n",
    "import seaborn as sns\n",
    "sns.set(palette=\"Set2\")\n",
    "\n",
    "minute_stock_data_OCT2010 = np.genfromtxt('mquote201010.csv', delimiter=',',names=True,dtype=None)\n"
   ]
  },
  {
   "cell_type": "markdown",
   "metadata": {},
   "source": [
    "## Return to Index \n",
    "- [Index](http://141.142.208.248:8000/notebooks/BW-Project/Index%20Page.ipynb)"
   ]
  },
  {
   "cell_type": "markdown",
   "metadata": {},
   "source": [
    "## Data Sorting/Retrieving Functions\n",
    "\n",
    "Dates should be entered in in the following format: yearmonthday. Example Oct 1 2010 --> 20101001. Stock symbols should be entered in as strings corresponding to the list from the variables section. \n",
    "\n",
    "pull_stock_from_symbol(stock_data,symbol)\n",
    "    \n",
    "    returns index of where the first occurence of symbol is located in the orginal data array\n",
    "    \n",
    "pull_stock_from_index(stock_data,index)\n",
    "\n",
    "    returns all the data from the orginal data array. This is not filtered for just the values.\n",
    "    \n",
    "pull_stock_from_date_and_symbol(stock_data,symbol,date)\n",
    "\n",
    "    returns market values for a specific date (given that it is not a weekend) for a specific stock\n",
    "    \n",
    "pull_all_data_in_month(stock_data,symbol)\n",
    "\n",
    "    return market values for full month given specfi symbol"
   ]
  },
  {
   "cell_type": "code",
   "execution_count": 2,
   "metadata": {
    "collapsed": true
   },
   "outputs": [],
   "source": [
    "def pull_stock_from_symbol(stock_data,symbol):\n",
    "    #definition to pull specific index of stock data given symbol\n",
    "    for i in range(minute_stock_data_OCT2010_length):\n",
    "        if(minute_stock_data_OCT2010[i][0].decode(\"utf-8\")==symbol):\n",
    "            return i\n",
    "        else:\n",
    "            i+=stock_steps\n",
    "    return False"
   ]
  },
  {
   "cell_type": "code",
   "execution_count": 3,
   "metadata": {
    "collapsed": true
   },
   "outputs": [],
   "source": [
    "def pull_stock_from_index(stock_data,index):\n",
    "    #definition to pull specific data from index\n",
    "    if(index%21==0 and index<minute_stock_data_OCT2010_length and index >=0):\n",
    "        return minute_stock_data_OCT2010[index:index+21]\n",
    "    else:\n",
    "        index = index-(index%21)\n",
    "        return minute_stock_data_OCT2010[index:index+21]"
   ]
  },
  {
   "cell_type": "code",
   "execution_count": 4,
   "metadata": {
    "collapsed": true
   },
   "outputs": [],
   "source": [
    "def pull_stock_from_date_and_symbol(stock_data,symbol,date):\n",
    "    index = pull_stock_from_symbol(stock_data,symbol)\n",
    "    single_day_data = np.zeros(shape=(391,),dtype=float)\n",
    "    for i in range(index+21):\n",
    "        if(minute_stock_data_OCT2010[i][1]==date):\n",
    "            for x in range(391):\n",
    "                single_day_data[x]=minute_stock_data_OCT2010[i][3+x]\n",
    "        \n",
    "    return single_day_data\n"
   ]
  },
  {
   "cell_type": "code",
   "execution_count": 5,
   "metadata": {
    "collapsed": true
   },
   "outputs": [],
   "source": [
    "def pull_all_data_in_month(stock_data,symbol):\n",
    "    start_index = pull_stock_from_symbol(stock_data,symbol)\n",
    "        #Get the correct start index for stock\n",
    "    symbol_month_data = np.zeros(shape=(8211,),dtype=np.float)\n",
    "        #Create an empty array of correct size\n",
    "        #Fill it in with a double array\n",
    "    index = 0 \n",
    "    for x in range (start_index,start_index+21):\n",
    "        for y in range(3,394):\n",
    "            symbol_month_data[index]=minute_stock_data_OCT2010[x][y]\n",
    "            #print(symbol_month_data[index])\n",
    "            index+=1\n",
    "\n",
    "    #print(index)  \n",
    "    return symbol_month_data"
   ]
  },
  {
   "cell_type": "code",
   "execution_count": 6,
   "metadata": {
    "collapsed": true
   },
   "outputs": [],
   "source": [
    "def time_array_per_day(date):\n",
    "    date_format = str(date)\n",
    "    date_format = date_format[0:4]+'-'+date_format[4:6]+'-'+date_format[6:8]\n",
    "    date_start = date_format+'T09:30'\n",
    "    date_end = date_format+'T16:01'\n",
    "    return np.arange(date_start, date_end, dtype='datetime64[m]')\n",
    "    "
   ]
  },
  {
   "cell_type": "markdown",
   "metadata": {},
   "source": [
    "## Graphing Functions\n",
    "\n",
    "graph_single_day_stock_data(symbol,date)\n",
    "\n",
    "    Symbol inputted as str and date entered in in the formal yearmonthday ex(20101001)\n",
    "    Prints out opening market day price and closing market day price and highest market value\n",
    "    \n",
    "graph_full_month_data(symbol)\n",
    "\n",
    "    Symbol inputted as str. Prints the highest market and lowest market value for the month graphs the values\n",
    "    of the stock over the course of the month\n",
    "  \n",
    "graph_find_correlation(symbol1,symbol2)\n",
    "\n",
    "    Symbol1 and symbol2 inputted as str. Graphs a scatter plot along with a line of best fit between two stocks.\n",
    "    Prints out correlation coefficient R in addition to the slope of the best fit line.\n",
    "    \n",
    "graph_all_days_in_month(symbol)\n",
    "\n",
    "    Symbol inputted as str, graphs subplots of each individual day in the month for the corresponding symbol.\n",
    "    \n",
    "    \n",
    "    "
   ]
  },
  {
   "cell_type": "code",
   "execution_count": 7,
   "metadata": {
    "collapsed": true
   },
   "outputs": [],
   "source": [
    "def graph_single_day_stock_data(symbol,date):\n",
    "    stock_to_graph = pull_stock_from_date_and_symbol(minute_stock_data_OCT2010,symbol,date)\n",
    "    single_date_data = time_array_per_day(date)\n",
    "    fig_stock,ax_stock=plt.subplots(figsize=(15,10))\n",
    "    ax_stock.plot(single_date_data,stock_to_graph,color='indigo')\n",
    "    ax_stock.set_xlabel('Hours of Current Day')\n",
    "    ax_stock.set_ylabel('Stock Values')\n",
    "    ax_stock.set_title('Stock Data for Single Day')\n",
    "    print(\"Opening Day Value:\",stock_to_graph[0],\"Closing Day Value:\",stock_to_graph[390])\n",
    "    print(\"Highest Market Value For Day:\",np.amax(stock_to_graph))\n",
    "    print(\"Lowest Market Value For Day:\",np.amin(stock_to_graph))"
   ]
  },
  {
   "cell_type": "code",
   "execution_count": 8,
   "metadata": {
    "collapsed": true
   },
   "outputs": [],
   "source": [
    "def graph_full_month_data(symbol):\n",
    "    stock_to_graph =pull_all_data_in_month(minute_stock_data_OCT2010,symbol)\n",
    "    #daily = mdates.DayLocator()\n",
    "    #hours = mdates.HourLocator()\n",
    "    #dfmt = mdates.DateFormatter('%b %d')\n",
    "    fig_stock,ax_stock=plt.subplots(figsize=(15,10))\n",
    "    plt.tight_layout()\n",
    "    ax_stock.plot(stock_to_graph,color='indigo')\n",
    "    #plt.gcf().autofmt_xdate()\n",
    "    #ax_stock.set_xlim(734046.395833,734074.666667)\n",
    "    #ax_stock.xaxis.set_minor_locator(daily)\n",
    "    ax_stock.set_xticklabels([time for time in time_stamps[::len(time_stamps)//10]]);\n",
    "    ax_stock.set_xlabel('Month-Day-Year of Oct.')\n",
    "    ax_stock.set_ylabel('Stock Values')\n",
    "    ax_stock.set_title('Full Month Stock Data')\n",
    "    print(\"Highest Market Value For Month:\",np.amax(stock_to_graph))\n",
    "    print(\"Lowest Market Value For Month:\",np.amin(stock_to_graph))"
   ]
  },
  {
   "cell_type": "code",
   "execution_count": 9,
   "metadata": {
    "collapsed": true
   },
   "outputs": [],
   "source": [
    "def graph_find_correlation(symbol1,symbol2):\n",
    "    stock1 = pull_all_data_in_month(minute_stock_data_OCT2010,symbol1)\n",
    "    stock2 = pull_all_data_in_month(minute_stock_data_OCT2010,symbol2)\n",
    "    fig_stock,ax_stock = plt.subplots(figsize=(15,10))\n",
    "    ax_stock.scatter(stock1,stock2,color='indigo')\n",
    "    ax_stock.plot(np.unique(stock1), np.poly1d(np.polyfit(stock1, stock2, 1))(np.unique(stock1)),color='orchid')\n",
    "    slope_bestfit,intercept=np.polyfit(stock1,stock2,1)\n",
    "    ax_stock.set_xlabel('Stock 1 Values')\n",
    "    ax_stock.set_ylabel('Stock 2 Values')\n",
    "    ax_stock.set_title('Looking for Correlations')\n",
    "    A = np.vstack([stock1,np.ones(len(stock1))]).T\n",
    "    m,c = np.linalg.lstsq(A,stock2)[0]\n",
    "    #plt.plot(stock1,stock1*m+c,color='blue')\n",
    "    correlation_r = np.corrcoef(stock2,stock1)[1,0]\n",
    "    print(\"Slope of Best fit is equal to:\",slope_bestfit)\n",
    "    print(\"Numpy Correlation Coefficient is equal to:\",correlation_r)\n",
    "    print(\"The slope  of best fit and the numpy correlation coefficient are for full month of data.\")\n"
   ]
  },
  {
   "cell_type": "code",
   "execution_count": 10,
   "metadata": {
    "collapsed": true
   },
   "outputs": [],
   "source": [
    "def graph_all_days_in_month(symbol):\n",
    "    index = pull_stock_from_symbol(minute_stock_data_OCT2010,symbol)\n",
    "    \n",
    "    fig,ax = plt.subplots(3,7,figsize=(35,17))\n",
    "    for x in range(3):\n",
    "        for y in range(7):\n",
    "            date = minute_stock_data_OCT2010[index][1]\n",
    "            ax[x][y].plot(time_array_per_day(date),pull_stock_from_date_and_symbol(minute_stock_data_OCT2010,symbol,date),color='indigo')\n",
    "            xfmt = mdates.DateFormatter('%H:%M')\n",
    "            ax[x][y].xaxis.set_major_formatter(xfmt)\n",
    "            ax[x][y].set_title('Stock for Data:' + str(minute_stock_data_OCT2010[index][1]))\n",
    "            index+=1\n",
    "            #xloc = plt.MaxNLocator(3)\n",
    "            #ax[x][y].xaxis.set_major_locator(xloc)\n",
    "            \n",
    "    plt.suptitle(\"Full Month Plotted as Individual Days\",fontsize=20)\n",
    "    fig.text(0.5, 0.07, 'Opening (9:30) to Closing (4:00)', ha='center')\n",
    "    fig.text(0.1, 0.5, 'Stock Values', va='center', rotation='vertical')"
   ]
  },
  {
   "cell_type": "code",
   "execution_count": 11,
   "metadata": {
    "collapsed": true
   },
   "outputs": [],
   "source": [
    "def bayesian_correlation(symbol1,symbol2):\n",
    "    fig = plt.figure(figsize=(15, 10))\n",
    "    ax = fig.add_subplot(111, xlabel=symbol1, ylabel=symbol2)\n",
    "    colors = np.linspace(0.1, 1, len(stock_A_data))\n",
    "    mymap = plt.get_cmap(\"winter\")\n",
    "    sc = ax.scatter(pull_all_data_in_month(minute_stock_data_OCT2010,symbol1), pull_all_data_in_month(minute_stock_data_OCT2010,symbol2), c=colors, cmap=mymap, lw=0)\n",
    "    cb = plt.colorbar(sc)\n",
    "    cb.ax.set_yticklabels([time for time in time_stamps[::len(time_stamps)//10]]);\n",
    "    return sc"
   ]
  },
  {
   "cell_type": "code",
   "execution_count": 12,
   "metadata": {
    "collapsed": false
   },
   "outputs": [
    {
     "ename": "NameError",
     "evalue": "name 'minute_stock_data_OCT2010_length' is not defined",
     "output_type": "error",
     "traceback": [
      "\u001b[0;31m---------------------------------------------------------------------------\u001b[0m",
      "\u001b[0;31mNameError\u001b[0m                                 Traceback (most recent call last)",
      "\u001b[0;32m<ipython-input-12-df53d2d13936>\u001b[0m in \u001b[0;36m<module>\u001b[0;34m()\u001b[0m\n\u001b[0;32m----> 1\u001b[0;31m \u001b[0mgraph_full_month_data\u001b[0m\u001b[0;34m(\u001b[0m\u001b[0;34m'A'\u001b[0m\u001b[0;34m)\u001b[0m\u001b[0;34m\u001b[0m\u001b[0m\n\u001b[0m",
      "\u001b[0;32m<ipython-input-8-90ee91f90ecb>\u001b[0m in \u001b[0;36mgraph_full_month_data\u001b[0;34m(symbol)\u001b[0m\n\u001b[1;32m      1\u001b[0m \u001b[0;32mdef\u001b[0m \u001b[0mgraph_full_month_data\u001b[0m\u001b[0;34m(\u001b[0m\u001b[0msymbol\u001b[0m\u001b[0;34m)\u001b[0m\u001b[0;34m:\u001b[0m\u001b[0;34m\u001b[0m\u001b[0m\n\u001b[0;32m----> 2\u001b[0;31m     \u001b[0mstock_to_graph\u001b[0m \u001b[0;34m=\u001b[0m\u001b[0mpull_all_data_in_month\u001b[0m\u001b[0;34m(\u001b[0m\u001b[0mminute_stock_data_OCT2010\u001b[0m\u001b[0;34m,\u001b[0m\u001b[0msymbol\u001b[0m\u001b[0;34m)\u001b[0m\u001b[0;34m\u001b[0m\u001b[0m\n\u001b[0m\u001b[1;32m      3\u001b[0m     \u001b[0;31m#daily = mdates.DayLocator()\u001b[0m\u001b[0;34m\u001b[0m\u001b[0;34m\u001b[0m\u001b[0m\n\u001b[1;32m      4\u001b[0m     \u001b[0;31m#hours = mdates.HourLocator()\u001b[0m\u001b[0;34m\u001b[0m\u001b[0;34m\u001b[0m\u001b[0m\n\u001b[1;32m      5\u001b[0m     \u001b[0;31m#dfmt = mdates.DateFormatter('%b %d')\u001b[0m\u001b[0;34m\u001b[0m\u001b[0;34m\u001b[0m\u001b[0m\n",
      "\u001b[0;32m<ipython-input-5-222b9c7d14ca>\u001b[0m in \u001b[0;36mpull_all_data_in_month\u001b[0;34m(stock_data, symbol)\u001b[0m\n\u001b[1;32m      1\u001b[0m \u001b[0;32mdef\u001b[0m \u001b[0mpull_all_data_in_month\u001b[0m\u001b[0;34m(\u001b[0m\u001b[0mstock_data\u001b[0m\u001b[0;34m,\u001b[0m\u001b[0msymbol\u001b[0m\u001b[0;34m)\u001b[0m\u001b[0;34m:\u001b[0m\u001b[0;34m\u001b[0m\u001b[0m\n\u001b[0;32m----> 2\u001b[0;31m     \u001b[0mstart_index\u001b[0m \u001b[0;34m=\u001b[0m \u001b[0mpull_stock_from_symbol\u001b[0m\u001b[0;34m(\u001b[0m\u001b[0mstock_data\u001b[0m\u001b[0;34m,\u001b[0m\u001b[0msymbol\u001b[0m\u001b[0;34m)\u001b[0m\u001b[0;34m\u001b[0m\u001b[0m\n\u001b[0m\u001b[1;32m      3\u001b[0m         \u001b[0;31m#Get the correct start index for stock\u001b[0m\u001b[0;34m\u001b[0m\u001b[0;34m\u001b[0m\u001b[0m\n\u001b[1;32m      4\u001b[0m     \u001b[0msymbol_month_data\u001b[0m \u001b[0;34m=\u001b[0m \u001b[0mnp\u001b[0m\u001b[0;34m.\u001b[0m\u001b[0mzeros\u001b[0m\u001b[0;34m(\u001b[0m\u001b[0mshape\u001b[0m\u001b[0;34m=\u001b[0m\u001b[0;34m(\u001b[0m\u001b[0;36m8211\u001b[0m\u001b[0;34m,\u001b[0m\u001b[0;34m)\u001b[0m\u001b[0;34m,\u001b[0m\u001b[0mdtype\u001b[0m\u001b[0;34m=\u001b[0m\u001b[0mnp\u001b[0m\u001b[0;34m.\u001b[0m\u001b[0mfloat\u001b[0m\u001b[0;34m)\u001b[0m\u001b[0;34m\u001b[0m\u001b[0m\n\u001b[1;32m      5\u001b[0m         \u001b[0;31m#Create an empty array of correct size\u001b[0m\u001b[0;34m\u001b[0m\u001b[0;34m\u001b[0m\u001b[0m\n",
      "\u001b[0;32m<ipython-input-2-0b6982cd9cff>\u001b[0m in \u001b[0;36mpull_stock_from_symbol\u001b[0;34m(stock_data, symbol)\u001b[0m\n\u001b[1;32m      1\u001b[0m \u001b[0;32mdef\u001b[0m \u001b[0mpull_stock_from_symbol\u001b[0m\u001b[0;34m(\u001b[0m\u001b[0mstock_data\u001b[0m\u001b[0;34m,\u001b[0m\u001b[0msymbol\u001b[0m\u001b[0;34m)\u001b[0m\u001b[0;34m:\u001b[0m\u001b[0;34m\u001b[0m\u001b[0m\n\u001b[1;32m      2\u001b[0m     \u001b[0;31m#definition to pull specific index of stock data given symbol\u001b[0m\u001b[0;34m\u001b[0m\u001b[0;34m\u001b[0m\u001b[0m\n\u001b[0;32m----> 3\u001b[0;31m     \u001b[0;32mfor\u001b[0m \u001b[0mi\u001b[0m \u001b[0;32min\u001b[0m \u001b[0mrange\u001b[0m\u001b[0;34m(\u001b[0m\u001b[0mminute_stock_data_OCT2010_length\u001b[0m\u001b[0;34m)\u001b[0m\u001b[0;34m:\u001b[0m\u001b[0;34m\u001b[0m\u001b[0m\n\u001b[0m\u001b[1;32m      4\u001b[0m         \u001b[0;32mif\u001b[0m\u001b[0;34m(\u001b[0m\u001b[0mminute_stock_data_OCT2010\u001b[0m\u001b[0;34m[\u001b[0m\u001b[0mi\u001b[0m\u001b[0;34m]\u001b[0m\u001b[0;34m[\u001b[0m\u001b[0;36m0\u001b[0m\u001b[0;34m]\u001b[0m\u001b[0;34m.\u001b[0m\u001b[0mdecode\u001b[0m\u001b[0;34m(\u001b[0m\u001b[0;34m\"utf-8\"\u001b[0m\u001b[0;34m)\u001b[0m\u001b[0;34m==\u001b[0m\u001b[0msymbol\u001b[0m\u001b[0;34m)\u001b[0m\u001b[0;34m:\u001b[0m\u001b[0;34m\u001b[0m\u001b[0m\n\u001b[1;32m      5\u001b[0m             \u001b[0;32mreturn\u001b[0m \u001b[0mi\u001b[0m\u001b[0;34m\u001b[0m\u001b[0m\n",
      "\u001b[0;31mNameError\u001b[0m: name 'minute_stock_data_OCT2010_length' is not defined"
     ]
    }
   ],
   "source": [
    "graph_full_month_data('A')\n"
   ]
  },
  {
   "cell_type": "code",
   "execution_count": null,
   "metadata": {
    "collapsed": false
   },
   "outputs": [],
   "source": [
    "graph_all_days_in_month('A')"
   ]
  },
  {
   "cell_type": "code",
   "execution_count": null,
   "metadata": {
    "collapsed": false
   },
   "outputs": [],
   "source": [
    "graph_single_day_stock_data('A',20101029)"
   ]
  },
  {
   "cell_type": "code",
   "execution_count": null,
   "metadata": {
    "collapsed": false
   },
   "outputs": [],
   "source": [
    "graph_find_correlation('A','AA')"
   ]
  },
  {
   "cell_type": "code",
   "execution_count": 1,
   "metadata": {
    "collapsed": false
   },
   "outputs": [
    {
     "ename": "NameError",
     "evalue": "name 'minute_stock_data_OCT2010' is not defined",
     "output_type": "error",
     "traceback": [
      "\u001b[0;31m---------------------------------------------------------------------------\u001b[0m",
      "\u001b[0;31mNameError\u001b[0m                                 Traceback (most recent call last)",
      "\u001b[0;32m<ipython-input-1-faf629479da9>\u001b[0m in \u001b[0;36m<module>\u001b[0;34m()\u001b[0m\n\u001b[0;32m----> 1\u001b[0;31m \u001b[0mminute_stock_data_OCT2010_length\u001b[0m \u001b[0;34m=\u001b[0m \u001b[0mlen\u001b[0m\u001b[0;34m(\u001b[0m\u001b[0mminute_stock_data_OCT2010\u001b[0m\u001b[0;34m)\u001b[0m\u001b[0;34m\u001b[0m\u001b[0m\n\u001b[0m\u001b[1;32m      2\u001b[0m     \u001b[0;31m#number of elements within the array\u001b[0m\u001b[0;34m\u001b[0m\u001b[0;34m\u001b[0m\u001b[0m\n\u001b[1;32m      3\u001b[0m \u001b[0mstock_steps\u001b[0m \u001b[0;34m=\u001b[0m \u001b[0;36m21\u001b[0m\u001b[0;34m\u001b[0m\u001b[0m\n\u001b[1;32m      4\u001b[0m     \u001b[0;31m#number of indices between separate stocks\u001b[0m\u001b[0;34m\u001b[0m\u001b[0;34m\u001b[0m\u001b[0m\n\u001b[1;32m      5\u001b[0m \u001b[0mstart_day_index\u001b[0m \u001b[0;34m=\u001b[0m \u001b[0;36m3\u001b[0m\u001b[0;34m\u001b[0m\u001b[0m\n",
      "\u001b[0;31mNameError\u001b[0m: name 'minute_stock_data_OCT2010' is not defined"
     ]
    }
   ],
   "source": [
    "minute_stock_data_OCT2010_length = len(minute_stock_data_OCT2010) \n",
    "    #number of elements within the array\n",
    "stock_steps = 21 \n",
    "    #number of indices between separate stocks\n",
    "start_day_index = 3 \n",
    "    #where first minute starts\n",
    "end_day_index = 393 \n",
    "    #where last minute ends\n",
    "\n",
    "time_stamps_temp = np.arange('2010-10-01T09:30', '2010-10-29T16:01', dtype='datetime64[m]')\n",
    "count = 0\n",
    "indexes = np.zeros(shape=(11520,),dtype=np.int)\n",
    "for i in range(len(time_stamps_temp)):\n",
    "    current_date = (str(time_stamps_temp[i]))[0:10]\n",
    "    if(np.is_busday(current_date)==False):\n",
    "         indexes[count]=int(i)\n",
    "         count+=1\n",
    "    else:\n",
    "        pass\n",
    "time_stamps = np.delete(time_stamps_temp,indexes)\n",
    "\n",
    "\n",
    "num_over = 0\n",
    "indexes_num2 = np.zeros(shape=(20980,),dtype=int)\n",
    "for x in range(len(time_stamps)):        \n",
    "    if('16:01' in str(time_stamps[x])):\n",
    "        for y in range(1049):\n",
    "            indexes_num2[num_over]=(x+y)\n",
    "            num_over+=1\n",
    "\n",
    "time_stamps = np.delete(time_stamps,indexes_num2)\n",
    "\n",
    "time_stamps_real = np.zeros(shape=(8211,),dtype='datetime64[m]')\n",
    "#Method instead just append np arrange on to the end of the thingies.\n",
    "\n",
    "num_min_in_buisnness_month = len(time_stamps)\n",
    "    #Number of minute level data points per the october month."
   ]
  },
  {
   "cell_type": "code",
   "execution_count": null,
   "metadata": {
    "collapsed": true
   },
   "outputs": [],
   "source": []
  }
 ],
 "metadata": {
  "kernelspec": {
   "display_name": "Python 3",
   "language": "python",
   "name": "python3"
  },
  "language_info": {
   "codemirror_mode": {
    "name": "ipython",
    "version": 3
   },
   "file_extension": ".py",
   "mimetype": "text/x-python",
   "name": "python",
   "nbconvert_exporter": "python",
   "pygments_lexer": "ipython3",
   "version": "3.5.2"
  }
 },
 "nbformat": 4,
 "nbformat_minor": 0
}
