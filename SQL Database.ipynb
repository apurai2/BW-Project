{
 "cells": [
  {
   "cell_type": "markdown",
   "metadata": {},
   "source": [
    "## SQL Database"
   ]
  },
  {
   "cell_type": "markdown",
   "metadata": {},
   "source": [
    "Creating a SQL database to hold the data, there will be an idividual table for each stock, the table being named after the stock symbol. The Stocks symbols can be looked up in the stocks_symbols list. \n",
    "\n",
    "To view a list of all of the tables created run the cell below."
   ]
  },
  {
   "cell_type": "code",
   "execution_count": 33,
   "metadata": {
    "collapsed": false,
    "scrolled": true
   },
   "outputs": [],
   "source": [
    "datas_c.execute(\"SELECT name FROM sqlite_master WHERE type='table';\")\n",
    "current_list = (datas_c.fetchall())"
   ]
  },
  {
   "cell_type": "markdown",
   "metadata": {},
   "source": [
    "## Return to Index \n",
    "- [Index](http://141.142.208.248:8000/notebooks/BW-Project/Index%20Page.ipynb)"
   ]
  },
  {
   "cell_type": "code",
   "execution_count": 34,
   "metadata": {
    "collapsed": false,
    "scrolled": true
   },
   "outputs": [
    {
     "name": "stdout",
     "output_type": "stream",
     "text": [
      "[('KME',), ('PRVW',), ('PARC',), ('FCTY',), ('USWDA',), ('GFD',), ('TKTX',), ('CRAY',), ('WHEL',), ('BNBGA',), ('WSDI',), ('CUM',), ('LFIN',), ('LTEC',), ('LMAT',), ('GMCR',), ('VTENC',), ('TIE',), ('BWINB',), ('AGNT',), ('FRAC',), ('FUBC',), ('SQAB',), ('MPRO',), ('DPAC',), ('NBSI',), ('TWRI',), ('HOGS',), ('PLRX',), ('GYRO',), ('ZITL',), ('TAP',), ('IOT',), ('IATA',), ('MLTX',), ('ASTN',), ('VSR',), ('BSH',), ('ENSY',), ('GPC',), ('AWRD',), ('BGII',), ('TIMT',), ('USXP',), ('IDID',), ('GSAT',), ('AFED',), ('SSOL',), ('EXAR',), ('SPIR',), ('RARB',), ('HAYN',), ('LOW',), ('UCHM',), ('RISC',), ('FFSW',), ('GUAR',), ('LRI',), ('DHBT',), ('LECT',), ('UBCP',), ('SUR',), ('ALAB',), ('WND',), ('ALRM',), ('HUN',), ('DIAU',), ('SGNT',), ('EEWI',), ('ACVA',), ('LMTS',), ('NSLB',), ('VAL',), ('ONTK',), ('ELS',), ('FIBK',), ('SCHI',), ('REAL',), ('JGIN',), ('GMKT',), ('ETN',), ('CLRN',), ('TA',), ('IVTC',), ('UVSL',), ('VCAI',), ('CDVA',), ('ASCA',), ('PSDI',), ('PSBK',), ('SCA',), ('MANT',), ('UHLD',), ('GKI',), ('SRR',), ('NPIX',), ('RELI',), ('NAIG',), ('AEP',), ('AORGB',), ('MACE',), ('RKTN',), ('CERN',), ('LFI',), ('GRPWI',), ('PELT',), ('SUPC',), ('GSII',), ('PSYS',), ('CANI',), ('KMR',), ('ANI',), ('CVVT',), ('ASIS',), ('APMC',), ('LGL',), ('HPOL',), ('CAT',), ('CHI',), ('CHAI',), ('MASB',), ('FMLY',), ('IMUL',), ('AET',), ('KMACV',), ('IPII',), ('CSBC',), ('MYTK',), ('ENZY',), ('LAWR',), ('MRQE',), ('CSAV',), ('BMCS',), ('ADSO',), ('DOSE',), ('WBB',), ('VSX',), ('G',), ('CFMT',), ('FCTR',), ('CLBH',), ('TNFI',), ('PVTR',), ('IVX',), ('ICCA',), ('PFBC',), ('CELI',), ('CCC',), ('VIDA',), ('CNDL',), ('TAGO',), ('CNNG',), ('CDE',), ('GTROD',), ('LBOR',), ('CAN',), ('GCOR',), ('RHEOV',), ('LARL',), ('CTCT',), ('CTIB',), ('DQSB',), ('FBR',), ('FHT',), ('SCOR',), ('ETYS',), ('TRND',), ('MTIC',), ('RXTC',), ('FRP',), ('IDE',), ('MPOEC',), ('JOR',), ('STU',), ('COA',), ('DRC',), ('DP',), ('PETS',), ('RIOC',), ('HIB',), ('BTSB',), ('LOEH',), ('RELY',), ('APPY',), ('FIT',), ('RFIL',), ('GDYS',), ('WSPI',), ('BIOP',), ('AFAS',), ('AOSC',), ('ECGC',), ('RAUT',), ('EPUR',), ('ABOV',), ('SNTS',), ('ASTM',), ('LLY',), ('ADTK',), ('SAHI',), ('MGAM',), ('STAC',), ('BV',), ('NTM',), ('PRGN',), ('ADNEA',), ('VICR',), ('FIIF',), ('BTRY',), ('RBSI',), ('DYP',), ('WSCO',), ('PWR',), ('GQ',), ('IFRA',), ('VWRX',), ('ESCC',), ('BBG',), ('MPWR',), ('MIC',), ('PMFG',), ('FOE',), ('CBSA',), ('VERT',), ('SCHN',), ('AILP',), ('HDNG',), ('NSDA',), ('GUID',), ('TLX',), ('OSIX',), ('STPN',), ('FOOD',), ('SUT',), ('PRCN',), ('CIAT',), ('PRTN',), ('LGE',), ('MLMI',), ('BTECV',), ('HYDE',), ('MGPRV',), ('LBNA',), ('SVGA',), ('WBAN',), ('KVB',), ('ORS',), ('GHM',), ('HAL',), ('KELL',), ('KTIC',), ('PGWC',), ('MWAR',), ('GLM',), ('MRCY',), ('GBFC',), ('AI',), ('SVBF',), ('KOSP',), ('VBRK',), ('GIFH',), ('CNTL',), ('CLNPV',), ('ITEG',), ('SUIT',), ('LAZR',), ('WWW',), ('VHI',), ('AOL',), ('POP',), ('WNH',), ('RAVN',), ('SMG',), ('UVV',), ('ITRC',), ('AAL',), ('BFL',), ('PSD',), ('DSET',), ('META',), ('ATLPA',), ('BHCO',), ('NMGA',), ('ATGN',), ('BHAL',), ('EXSO',), ('LBTYB',), ('CGRO',), ('RLIFA',), ('JCG',), ('ARYX',), ('TITN',), ('APGR',), ('FBGI',), ('THX',), ('MTALA',), ('NATD',), ('SNTA',), ('MCHS',), ('ASHE',), ('AWIN',), ('MX',), ('NCEN',), ('NOVT',), ('ADCC',), ('RSTO',), ('FPB',), ('FBPC',), ('DEER',), ('BIKE',), ('PSSI',), ('UBCD',), ('ABBK',), ('HAYZ',), ('RT',), ('BKNTQ',), ('CYBA',), ('CHOS',), ('UNV',), ('PLAN',), ('BRNO',), ('CLUK',), ('LODG',), ('TOH',), ('CV',), ('None',), ('KINTV',), ('VLCT',), ('BID',), ('MNPI',), ('FSBF',), ('BDMS',), ('CVUS',), ('GBCOB',), ('GNPT',), ('FTEC',), ('AMI',), ('TPEG',), ('OXFD',), ('SUAI',), ('VICL',), ('MVCO',), ('ASZ',), ('MYOG',), ('SW',), ('SOCS',), ('PALX',), ('KES',), ('PRED',), ('RDIOA',), ('LAB',), ('NINE',), ('VCWI',), ('ROC',), ('BSW',), ('VYSI',), ('PLSB',), ('CADC',), ('INET',), ('CGM',), ('MKSI',), ('MNCP',), ('FCBP',), ('JOYG',), ('DNKG',), ('ATTC',), ('ISAC',), ('GGL',), ('EDUT',), ('MXM',), ('ICU',), ('SMBX',), ('CMTK',), ('UBSC',), ('MCBS',), ('BEVB',), ('TFLX',), ('MRIA',), ('RBPAA',), ('NYHC',), ('KMXWI',), ('FAMF',), ('TEXP',), ('KIDO',), ('NVNW',), ('GVG',), ('MNDB',), ('AMPH',), ('BOG',), ('FBD',), ('BNCM',), ('HELE',), ('HIR',), ('ATRS',), ('CCBG',), ('CVTI',), ('KNE',), ('HCSG',), ('FRST',), ('CWLRV',), ('CATY',), ('PP',), ('GTE',), ('GDVS',), ('APRS',), ('USLD',), ('BPIE',), ('PCRV',), ('NESY',), ('PBIX',), ('WANB',), ('OIS',), ('PRCC',), ('PTAC',), ('TKO',), ('CHPP',), ('POYO',), ('MESA',), ('JCFS',), ('BRN',), ('SAVB',), ('MDLK',), ('ACBI',), ('ABTI',), ('WGOV',), ('MKRL',), ('ETR',), ('LDRY',), ('CFTP',), ('ITXC',), ('BJWI',), ('SSBL',), ('GRAWI',), ('MAT',), ('LEXG',), ('FLYT',), ('WSBK',), ('PAXNV',), ('PTRU',), ('STIM',), ('AHIS',), ('AISX',), ('ACLB',), ('UEPS',), ('NAC',), ('NOG',), ('LXNT',), ('ABFI',), ('IMTC',), ('UCIC',), ('PHDEC',), ('JNKN',), ('USLB',), ('XETA',), ('UCO',), ('SCCO',), ('AFS',), ('APGG',), ('VCI',), ('HRZ',), ('FLNB',), ('JMP',), ('UFS',), ('ROBC',), ('HOPS',), ('IBP',), ('AIMM',), ('IMCC',), ('WIN',), ('GBDC',), ('UNIT',), ('FNFI',), ('DRTE',), ('FSFC',), ('ELAB',), ('CNVX',), ('KTZ',), ('TOTAC',), ('DNLI',), ('LEE',), ('USTL',), ('TKGFA',), ('ATN',), ('ROMC',), ('GFLS',), ('HAUP',), ('ESTO',), ('BYDS',), ('DTMP',), ('PKBK',), ('DFSE',), ('DYMXF',), ('ITVU',), ('VXGN',), ('UNCA',), ('UOPX',), ('RCNI',), ('ECL',), ('OMGEC',), ('MSLD',), ('ESON',), ('AURE',), ('GYNX',), ('CART',), ('ROAD',), ('CIX',), ('PBSC',), ('DTMD',), ('DISCA',), ('EDCO',), ('TLCM',), ('KARR',), ('MTLG',), ('RYKA',), ('CQB',), ('FPI',), ('WALL',), ('ABMD',), ('WCFB',), ('CCOR',), ('HAVN',), ('SENEA',), ('VSNT',), ('EE',), ('AGBG',), ('FADV',), ('APP',), ('WCG',), ('ACSC',), ('FH',), ('HCBB',), ('LUMT',), ('MCRS',), ('CFBS',), ('KUN',), ('DRV',), ('NENG',), ('ONSI',), ('VSTY',), ('GENS',), ('VALE',), ('EBI',), ('DCH',), ('CHEZ',), ('NMX',), ('HFMD',), ('HRLY',), ('HOMS',), ('MILM',), ('WANC',), ('KTAX',), ('JUST',), ('VRAZ',), ('PBTX',), ('VITK',), ('BBRC',), ('OSBK',), ('TDG',), ('CHO',), ('RXII',), ('COND',), ('EMAG',), ('IRIEC',), ('MOOV',), ('RGFX',), ('PARR',), ('TVH',), ('HBAN',), ('BORD',), ('MDMI',), ('FXCM',), ('NNEXF',), ('AEOS',), ('X',), ('CHAR',), ('NOEL',), ('CPST',), ('CHPM',), ('SOSS',), ('OVEN',), ('RML',), ('ARIA',), ('APSO',), ('CYTWI',), ('PLFC',), ('SPRX',), ('ORVX',), ('BYL',), ('ANMI',), ('SYS',), ('UTEC',), ('CSNO',), ('TALX',), ('TGC',), ('NCOG',), ('GCN',), ('ZLOG',), ('VFLX',), ('TUTR',), ('CBLX',), ('BARE',), ('CROX',), ('FWBN',), ('RCOM',), ('AWII',), ('ULTI',), ('AMTL',), ('OZRK',), ('QMDC',), ('VLOG',), ('ISPC',), ('MSTI',), ('GCR',), ('PRCT',), ('IACP',), ('ADFC',), ('DAVX',), ('MFSB',), ('CGFC',), ('OMNWI',), ('JBAK',), ('MKA',), ('SKNS',), ('FB',), ('NSTC',), ('CXI',), ('FMSB',), ('VG',), ('PGEX',), ('JUNO',), ('PWN',), ('DAIO',), ('INFB',), ('SHOC',), ('CNYF',), ('PEOP',), ('TGRP',), ('SVT',), ('IMCL',), ('SCHL',), ('CNWK',), ('URX',), ('ESMR',), ('PSX',), ('LUNN',), ('UNCB',), ('AOR',), ('LCCO',), ('CYSV',), ('SIG',), ('CPK',), ('COMS',), ('QLIX',), ('TRNZ',), ('UPT',), ('OMKT',), ('PGG',), ('GKIS',), ('COPI',), ('WYPT',), ('MWAV',), ('GRRL',), ('WHRC',), ('SYDWI',), ('DVID',), ('OPSC',), ('HERZ',), ('CELC',), ('IDGB',), ('TOTL',), ('SWY',), ('CONT',), ('TFG',), ('FIG',), ('TZOO',), ('FCBF',), ('CBGWI',), ('CGII',), ('NI',), ('NATC',), ('TFSM',), ('TEKC',), ('JLT',), ('MDU',), ('PKE',), ('IMSX',), ('PCP',), ('PRTL',), ('IMRS',), ('HACHA',), ('FFHH',), ('BFCI',), ('NEWS',), ('BEII',), ('GSLA',), ('FSFT',), ('KNOT',), ('UPAC',), ('MFCV',), ('BBGS',), ('VFSB',), ('CGF',), ('HPLA',), ('BITI',), ('LSCP',), ('MSBI',), ('ETEC',), ('YILD',), ('WONE',), ('CYCO',), ('IFSL',), ('ITSW',), ('RAHWI',), ('KNOL',), ('CRPB',), ('IPCC',), ('VSCP',), ('GNTA',), ('DPKG',), ('ACTI',), ('LIOX',), ('NEIB',), ('ALGO',), ('EAG',), ('MBLX',), ('APBI',), ('LENBWI',), ('BTRIC',), ('SCNO',), ('SEEC',), ('DDRX',), ('REDB',), ('HF',), ('ORBI',), ('BRW',), ('ASWX',), ('SICEC',), ('CAM',), ('LPX',), ('HERB',), ('BNRY',), ('SPAR',), ('LATX',), ('CCFH',), ('EBSI',), ('HFNC',), ('TYFC',), ('RPICB',)]\n"
     ]
    }
   ],
   "source": [
    "print(current_list)"
   ]
  },
  {
   "cell_type": "code",
   "execution_count": 30,
   "metadata": {
    "collapsed": true
   },
   "outputs": [],
   "source": [
    "import sqlite3\n",
    "import glob\n",
    "import csv\n",
    "import os"
   ]
  },
  {
   "cell_type": "code",
   "execution_count": 15,
   "metadata": {
    "collapsed": true
   },
   "outputs": [],
   "source": [
    "stocks_symbols = []"
   ]
  },
  {
   "cell_type": "code",
   "execution_count": 3,
   "metadata": {
    "collapsed": false
   },
   "outputs": [],
   "source": [
    "def add_to_db(file,db):\n",
    "    with open(file,'r') as fin:\n",
    "        data = csv.DictReader(fin)\n",
    "        add_data = [(i['PERMNO'], i['SYMBOL'],i['DATE'],i['itime'],i['mquote']) for i in data]\n",
    "        db.executemany(\"INSERT INTO stocks_data (PERMNO, SYMBOL, DATE, itime, mquote) VALUES (?, ?, ?, ?, ?);\", add_data)"
   ]
  },
  {
   "cell_type": "code",
   "execution_count": 20,
   "metadata": {
    "collapsed": true
   },
   "outputs": [],
   "source": [
    "def add_csv(dir_name,db):\n",
    "    index=0\n",
    "    count = 0\n",
    "    for file in glob.glob(dir_name):\n",
    "        if(count != index):\n",
    "            count+=1\n",
    "        else:            \n",
    "            add_new_table(file,db,index)\n",
    "            index+=1\n",
    "            count = index\n",
    "            if(index==500):\n",
    "                break\n"
   ]
  },
  {
   "cell_type": "code",
   "execution_count": 5,
   "metadata": {
    "collapsed": false
   },
   "outputs": [],
   "source": [
    "def find_symbol(file_name):\n",
    "    with open(file_name,'r') as fin:\n",
    "        bear = csv.DictReader(fin)\n",
    "        for i in bear:\n",
    "            if(i['SYMBOL']==None):\n",
    "                print(file_name)\n",
    "            return i['SYMBOL']"
   ]
  },
  {
   "cell_type": "code",
   "execution_count": 6,
   "metadata": {
    "collapsed": false
   },
   "outputs": [],
   "source": [
    "#for file in glob.glob('/data/finance/stocks/permno_csv/*.csv'):\n",
    " #       stocks_symbols.append(find_symbol(file))"
   ]
  },
  {
   "cell_type": "code",
   "execution_count": 16,
   "metadata": {
    "collapsed": true
   },
   "outputs": [],
   "source": [
    "for file in glob.glob('/data/finance/stocks/permno_csv/permno*.csv'):\n",
    "       stocks_symbols.append(find_symbol(file))"
   ]
  },
  {
   "cell_type": "code",
   "execution_count": 17,
   "metadata": {
    "collapsed": false
   },
   "outputs": [
    {
     "data": {
      "text/plain": [
       "13666"
      ]
     },
     "execution_count": 17,
     "metadata": {},
     "output_type": "execute_result"
    }
   ],
   "source": [
    "#Create Stocks Database\n",
    "#Eacht table corresponds to a stock symbols the stock symbols correspond to the stock symbol\n",
    "#This will probably take forever and ever and ever. \n",
    "len(stocks_symbols)"
   ]
  },
  {
   "cell_type": "code",
   "execution_count": 18,
   "metadata": {
    "collapsed": true
   },
   "outputs": [],
   "source": [
    "#stocks_conn = sqlite3.connect('stock_data.db')\n",
    "#stock_c = stocks_conn.cursor()\n",
    "\n",
    "def add_new_table(dir_name, db,index):\n",
    "        with open(dir_name) as fin:\n",
    "            data = csv.DictReader(fin)\n",
    "            cols = ['PERMNO', 'SYMBOL', 'DATE', 'itime', 'mquote']\n",
    "            table=stocks_symbols[index]\n",
    "\n",
    "            sql = 'drop table if exists \"{}\"'.format(table)\n",
    "            db.execute(sql)\n",
    "\n",
    "            sql = 'create table \"{table}\" ( {cols} )'.format(\n",
    "                table=table,\n",
    "                cols=','.join('\"{}\"'.format(col) for col in cols))\n",
    "            db.execute(sql)\n",
    "\n",
    "            sql = 'insert into \"{table}\" values ( {vals} )'.format(\n",
    "                table=table,\n",
    "                vals=','.join('?' for col in cols))\n",
    "            add_data = [(i['PERMNO'], i['SYMBOL'],i['DATE'],i['itime'],i['mquote']) for i in data]\n",
    "            db.executemany(sql, add_data)\n"
   ]
  },
  {
   "cell_type": "code",
   "execution_count": 19,
   "metadata": {
    "collapsed": true
   },
   "outputs": [],
   "source": [
    "dir_list=glob.glob('/data/finance/stocks/permno_csv/*.csv')"
   ]
  },
  {
   "cell_type": "code",
   "execution_count": 23,
   "metadata": {
    "collapsed": true
   },
   "outputs": [],
   "source": [
    "datas_conn = sqlite3.connect('stocks_data.db')"
   ]
  },
  {
   "cell_type": "code",
   "execution_count": 24,
   "metadata": {
    "collapsed": false
   },
   "outputs": [],
   "source": [
    "datas_c = datas_conn.cursor()\n"
   ]
  },
  {
   "cell_type": "code",
   "execution_count": 25,
   "metadata": {
    "collapsed": false
   },
   "outputs": [],
   "source": [
    "add_csv('/data/finance/stocks/permno_csv/*.csv',datas_c)"
   ]
  },
  {
   "cell_type": "markdown",
   "metadata": {
    "collapsed": false
   },
   "source": [
    "for i in range(1000):\n",
    "    table = stocks_symbols[i]\n",
    "    sql = 'drop table if exists \"{}\"'.format(table)\n",
    "    stock_c.execute(sql)"
   ]
  },
  {
   "cell_type": "markdown",
   "metadata": {
    "collapsed": false
   },
   "source": [
    "test =[]\n",
    "for x in range(732):\n",
    "    blah=0\n",
    "    table = stocks_symbols[x]\n",
    "    sql = 'select SYMBOL from \"{}\"'.format(table)\n",
    "    for row in stock_c.execute(sql):\n",
    "        if(blah == 1):\n",
    "            blah = 0\n",
    "            break\n",
    "        if(row!=(table,)):\n",
    "            print('mismatch')\n",
    "        test.append(row[0])\n",
    "        blah+=1\n"
   ]
  },
  {
   "cell_type": "code",
   "execution_count": null,
   "metadata": {
    "collapsed": true
   },
   "outputs": [],
   "source": [
    "datas_conn.commit()\n",
    "datas_conn.close()"
   ]
  },
  {
   "cell_type": "code",
   "execution_count": 21,
   "metadata": {
    "collapsed": false
   },
   "outputs": [
    {
     "data": {
      "text/plain": [
       "'/data/finance/stocks/permno_csv/permno88486.csv'"
      ]
     },
     "execution_count": 21,
     "metadata": {},
     "output_type": "execute_result"
    }
   ],
   "source": [
    "dir_list[0]"
   ]
  },
  {
   "cell_type": "code",
   "execution_count": 22,
   "metadata": {
    "collapsed": false
   },
   "outputs": [
    {
     "name": "stdout",
     "output_type": "stream",
     "text": [
      "188072 permno88486.csv\n"
     ]
    }
   ],
   "source": [
    "%%bash\n",
    "cd /data/finance/stocks/permno_csv/\n",
    "#head -n  permno77854.csv\n",
    "wc -l permno88486.csv"
   ]
  },
  {
   "cell_type": "code",
   "execution_count": 35,
   "metadata": {
    "collapsed": false
   },
   "outputs": [
    {
     "data": {
      "text/plain": [
       "0"
      ]
     },
     "execution_count": 35,
     "metadata": {},
     "output_type": "execute_result"
    }
   ],
   "source": [
    "stocks_symbols.index('KME')"
   ]
  },
  {
   "cell_type": "code",
   "execution_count": null,
   "metadata": {
    "collapsed": true
   },
   "outputs": [],
   "source": []
  }
 ],
 "metadata": {
  "kernelspec": {
   "display_name": "Python 3",
   "language": "python",
   "name": "python3"
  },
  "language_info": {
   "codemirror_mode": {
    "name": "ipython",
    "version": 3
   },
   "file_extension": ".py",
   "mimetype": "text/x-python",
   "name": "python",
   "nbconvert_exporter": "python",
   "pygments_lexer": "ipython3",
   "version": "3.5.2"
  }
 },
 "nbformat": 4,
 "nbformat_minor": 0
}
